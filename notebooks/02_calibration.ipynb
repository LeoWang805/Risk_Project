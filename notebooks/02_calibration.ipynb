{
 "cells": [
  {
   "cell_type": "code",
   "execution_count": 1,
   "metadata": {},
   "outputs": [
    {
     "name": "stdout",
     "output_type": "stream",
     "text": [
      "✔️ Project root: /Users/LeoWang/Desktop/CU/Risk/Risk_Project\n",
      "✔️ CWD:          /Users/LeoWang/Desktop/CU/Risk/Risk_Project\n",
      "✔️ Contents:     ['.DS_Store', 'pyproject.toml', 'tests', '.venv', 'data', 'notebooks', 'src']\n"
     ]
    }
   ],
   "source": [
    "# ── Robust Project Setup ─────────────────────────────────────────────────\n",
    "import os, sys\n",
    "from pathlib import Path\n",
    "\n",
    "def find_project_root(marker_dirs=('src','data')):\n",
    "    p = Path().resolve()\n",
    "    while True:\n",
    "        if all((p / d).is_dir() for d in marker_dirs):\n",
    "            return p\n",
    "        if p.parent == p:\n",
    "            raise RuntimeError(f\"Could not find project root containing {marker_dirs}\")\n",
    "        p = p.parent\n",
    "\n",
    "# 1) locate & cd into your Risk_Project folder\n",
    "project_root = find_project_root()\n",
    "os.chdir(project_root)\n",
    "\n",
    "# 2) ensure Python can import src/ and config.py\n",
    "if str(project_root) not in sys.path:\n",
    "    sys.path.insert(0, str(project_root))\n",
    "\n",
    "print(f\"✔️ Project root: {project_root}\")\n",
    "print(f\"✔️ CWD:          {os.getcwd()}\")\n",
    "print(f\"✔️ Contents:     {os.listdir(project_root)}\")\n"
   ]
  },
  {
   "cell_type": "code",
   "execution_count": 2,
   "metadata": {},
   "outputs": [
    {
     "name": "stdout",
     "output_type": "stream",
     "text": [
      "Example μ/σ on AAPL: 0.1754, 0.4437\n",
      "Covariance matrix:\n",
      "           AAPL      AMZN\n",
      "AAPL  0.196869  0.075444\n",
      "AMZN  0.075444  0.303796\n"
     ]
    }
   ],
   "source": [
    "# ── Load config, data, & calibration funcs ───────────────────────────────\n",
    "from risk_project.config        import STOCK_FILES, TRADING_DAYS_YR\n",
    "from risk_project.data_loader   import load_price_series\n",
    "from risk_project.calibration   import compute_log_returns, estimate_mu_sigma, estimate_covariance_matrix\n",
    "\n",
    "series = load_price_series(STOCK_FILES)\n",
    "\n",
    "# quick check\n",
    "mu, sigma = estimate_mu_sigma(series[next(iter(series))], trading_days_per_year=TRADING_DAYS_YR)\n",
    "print(f\"Example μ/σ on {next(iter(series))}: {mu:.4f}, {sigma:.4f}\")\n",
    "\n",
    "cov = estimate_covariance_matrix(series)\n",
    "print(\"Covariance matrix:\\n\", cov)\n"
   ]
  },
  {
   "cell_type": "code",
   "execution_count": 3,
   "metadata": {},
   "outputs": [
    {
     "name": "stdout",
     "output_type": "stream",
     "text": [
      "AAPL log returns head:\n",
      " Dates\n",
      "1982-11-16   -0.050920\n",
      "1982-11-17    0.043803\n",
      "1982-11-18    0.000000\n",
      "1982-11-19   -0.014389\n",
      "1982-11-22   -0.059719\n",
      "Name: PX_LAST, dtype: float64 \n",
      "\n",
      "AAPL → mu = 0.1754, σ = 0.4437\n",
      "AMZN → mu = 0.2807, σ = 0.5512\n",
      "\n",
      "Annualized covariance matrix:\n",
      "           AAPL      AMZN\n",
      "AAPL  0.196869  0.075444\n",
      "AMZN  0.075444  0.303796\n"
     ]
    }
   ],
   "source": [
    "from risk_project.calibration import compute_log_returns, estimate_mu_sigma, estimate_covariance_matrix\n",
    "\n",
    "# Compute and display log returns for AAPL\n",
    "aapl_rets = compute_log_returns(series['AAPL'])\n",
    "print(\"AAPL log returns head:\\n\", aapl_rets.head(), \"\\n\")\n",
    "\n",
    "# Estimate mu & sigma for both\n",
    "for sym, ps in series.items():\n",
    "    mu, sigma = estimate_mu_sigma(ps)\n",
    "    print(f\"{sym} → mu = {mu:.4f}, σ = {sigma:.4f}\")\n",
    "\n",
    "# Covariance matrix\n",
    "cov = estimate_covariance_matrix(series)\n",
    "print(\"\\nAnnualized covariance matrix:\\n\", cov)\n"
   ]
  }
 ],
 "metadata": {
  "kernelspec": {
   "display_name": "Python 3",
   "language": "python",
   "name": "python3"
  },
  "language_info": {
   "codemirror_mode": {
    "name": "ipython",
    "version": 3
   },
   "file_extension": ".py",
   "mimetype": "text/x-python",
   "name": "python",
   "nbconvert_exporter": "python",
   "pygments_lexer": "ipython3",
   "version": "3.12.4"
  }
 },
 "nbformat": 4,
 "nbformat_minor": 2
}
