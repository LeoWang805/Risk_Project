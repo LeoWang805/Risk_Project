{
 "cells": [
  {
   "cell_type": "code",
   "execution_count": 1,
   "metadata": {},
   "outputs": [
    {
     "name": "stdout",
     "output_type": "stream",
     "text": [
      "✔️ Project root: /Users/LeoWang/Desktop/CU/Risk/Risk_Project\n"
     ]
    }
   ],
   "source": [
    "import os, sys\n",
    "from pathlib import Path\n",
    "\n",
    "def find_project_root(marker_dirs=('src','data')):\n",
    "    p = Path().resolve()\n",
    "    while True:\n",
    "        if all((p / d).is_dir() for d in marker_dirs):\n",
    "            return p\n",
    "        if p.parent == p:\n",
    "            raise RuntimeError(f\"Could not find project root containing {marker_dirs}\")\n",
    "        p = p.parent\n",
    "\n",
    "project_root = find_project_root()\n",
    "os.chdir(project_root)\n",
    "if str(project_root) not in sys.path:\n",
    "    sys.path.insert(0, str(project_root))\n",
    "\n",
    "print(\"✔️ Project root:\", project_root)\n"
   ]
  },
  {
   "cell_type": "code",
   "execution_count": 2,
   "metadata": {},
   "outputs": [
    {
     "name": "stdout",
     "output_type": "stream",
     "text": [
      "Positions: {'AAPL': 429.88565041698905, 'AMZN': 429.6270836913559}\n",
      "μ: {'AAPL': 0.1753632543300528, 'AMZN': 0.2806626323807433}\n",
      "Cov matrix:\n",
      "           AAPL      AMZN\n",
      "AAPL  0.196869  0.075444\n",
      "AMZN  0.075444  0.303796\n"
     ]
    }
   ],
   "source": [
    "# ── Cell 2: Load config, data, & calibrate ─────────────────────────\n",
    "from risk_project.config         import STOCK_FILES, TARGET_NOTIONAL, TRADING_DAYS_YR\n",
    "from risk_project.data_loader    import load_price_series\n",
    "from risk_project.calibration    import estimate_mu_sigma, estimate_covariance_matrix\n",
    "\n",
    "# Load prices\n",
    "series = load_price_series(STOCK_FILES)\n",
    "\n",
    "# Position sizing\n",
    "positions = {\n",
    "    sym: TARGET_NOTIONAL / series[sym].iloc[-1]\n",
    "    for sym in series\n",
    "}\n",
    "\n",
    "# Calibrate mu & cov\n",
    "mu  = {sym: estimate_mu_sigma(ps, trading_days_per_year=TRADING_DAYS_YR)[0]\n",
    "       for sym, ps in series.items()}\n",
    "cov = estimate_covariance_matrix(series, trading_days_per_year=TRADING_DAYS_YR)\n",
    "\n",
    "print(\"Positions:\", positions)\n",
    "print(\"μ:\", mu)\n",
    "print(\"Cov matrix:\\n\", cov)\n"
   ]
  },
  {
   "cell_type": "code",
   "execution_count": 3,
   "metadata": {},
   "outputs": [
    {
     "name": "stdout",
     "output_type": "stream",
     "text": [
      "Parametric 1-day VaR: $11,648.07, ES: $13,371.14\n",
      "Historical 1-day VaR: $3,088.35, ES: $4,420.94\n",
      "MC 1-day VaR: $11,310.55, ES: $13,107.62\n"
     ]
    }
   ],
   "source": [
    "# ─── Cell 3: Compute & Print VaR/ES ────────────────────────────────\n",
    "from risk_project.config      import P_VAR, HORIZON_DAYS, MC_PATHS, SEED, TRADING_DAYS_YR\n",
    "from risk_project.var_es      import parametric_var_es, historical_var_es, monte_carlo_var_es\n",
    "\n",
    "# 1) Parametric VaR & ES\n",
    "pvar, pes = parametric_var_es(\n",
    "    positions,\n",
    "    series,\n",
    "    mu,\n",
    "    cov,\n",
    "    p=P_VAR,\n",
    "    horizon_days=HORIZON_DAYS,\n",
    "    trading_days=TRADING_DAYS_YR,\n",
    ")\n",
    "print(f\"Parametric 1-day VaR: ${pvar:,.2f}, ES: ${pes:,.2f}\")\n",
    "\n",
    "# 2) Historical VaR & ES\n",
    "hvar, hes = historical_var_es(\n",
    "    positions,\n",
    "    series,\n",
    "    p=P_VAR,\n",
    "    horizon_days=HORIZON_DAYS,\n",
    "    is_long=True,\n",
    ")\n",
    "print(f\"Historical 1-day VaR: ${hvar:,.2f}, ES: ${hes:,.2f}\")\n",
    "\n",
    "# 3) Monte Carlo VaR & ES\n",
    "mcvar, mces = monte_carlo_var_es(\n",
    "    positions,\n",
    "    series,\n",
    "    mu,\n",
    "    cov,\n",
    "    p=P_VAR,\n",
    "    horizon_days=HORIZON_DAYS,\n",
    "    trading_days=TRADING_DAYS_YR,\n",
    "    n_sims=MC_PATHS,\n",
    "    seed=SEED,\n",
    ")\n",
    "print(f\"MC 1-day VaR: ${mcvar:,.2f}, ES: ${mces:,.2f}\")\n"
   ]
  }
 ],
 "metadata": {
  "kernelspec": {
   "display_name": "Python 3",
   "language": "python",
   "name": "python3"
  },
  "language_info": {
   "codemirror_mode": {
    "name": "ipython",
    "version": 3
   },
   "file_extension": ".py",
   "mimetype": "text/x-python",
   "name": "python",
   "nbconvert_exporter": "python",
   "pygments_lexer": "ipython3",
   "version": "3.12.4"
  }
 },
 "nbformat": 4,
 "nbformat_minor": 2
}
