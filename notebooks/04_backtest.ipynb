{
 "cells": [
  {
   "cell_type": "code",
   "execution_count": 1,
   "metadata": {},
   "outputs": [
    {
     "name": "stdout",
     "output_type": "stream",
     "text": [
      "✔️ Project root: /Users/LeoWang/Desktop/CU/Risk/Risk_Project\n"
     ]
    }
   ],
   "source": [
    "import os, sys\n",
    "from pathlib import Path\n",
    "\n",
    "def find_project_root(marker_dirs=('src','data')):\n",
    "    p = Path().resolve()\n",
    "    while True:\n",
    "        if all((p / d).is_dir() for d in marker_dirs):\n",
    "            return p\n",
    "        if p.parent == p:\n",
    "            raise RuntimeError(f\"Could not find project root containing {marker_dirs}\")\n",
    "        p = p.parent\n",
    "\n",
    "project_root = find_project_root()\n",
    "os.chdir(project_root)\n",
    "if str(project_root) not in sys.path:\n",
    "    sys.path.insert(0, str(project_root))\n",
    "\n",
    "print(\"✔️ Project root:\", project_root)\n"
   ]
  },
  {
   "cell_type": "code",
   "execution_count": 2,
   "metadata": {},
   "outputs": [
    {
     "name": "stdout",
     "output_type": "stream",
     "text": [
      "Settings:\n",
      "  STOCK_FILES     = ['data/AAPL-bloomberg.csv', 'data/AMZN-bloomberg.csv']\n",
      "  TARGET_NOTIONAL = 100000\n",
      "  P_VaR           = 0.99\n",
      "  HORIZON_DAYS    = 1\n",
      "  WINDOW          = 250\n",
      "  BACKTEST_START  = None\n",
      "  BACKTEST_END    = None\n",
      "  TRADING_DAYS_YR = 252\n",
      "  MC_PATHS, SEED  = 10000, 42\n"
     ]
    }
   ],
   "source": [
    "# ── Cell 2: Imports & Config ───────────────────────────────────────────────────\n",
    "import pandas as pd\n",
    "import numpy as np\n",
    "from tqdm.notebook import trange\n",
    "from scipy.stats   import chi2\n",
    "\n",
    "from risk_project.config      import (\n",
    "    STOCK_FILES,\n",
    "    TARGET_NOTIONAL,\n",
    "    P_VAR,\n",
    "    HORIZON_DAYS,\n",
    "    WINDOW,\n",
    "    BACKTEST_START,\n",
    "    BACKTEST_END,\n",
    "    TRADING_DAYS_YR,\n",
    "    MC_PATHS,\n",
    "    SEED\n",
    ")\n",
    "from risk_project.data_loader import load_price_series\n",
    "from risk_project.var_es      import parametric_var_es, historical_var_es\n",
    "from risk_project.monte_carlo import monte_carlo\n",
    "from risk_project.backtest    import compute_portfolio_pnl, compute_exceptions, kupiec_test\n",
    "\n",
    "print(\"Settings:\")\n",
    "print(f\"  STOCK_FILES     = {STOCK_FILES}\")\n",
    "print(f\"  TARGET_NOTIONAL = {TARGET_NOTIONAL}\")\n",
    "print(f\"  P_VaR           = {P_VAR}\")\n",
    "print(f\"  HORIZON_DAYS    = {HORIZON_DAYS}\")\n",
    "print(f\"  WINDOW          = {WINDOW}\")\n",
    "print(f\"  BACKTEST_START  = {BACKTEST_START}\")\n",
    "print(f\"  BACKTEST_END    = {BACKTEST_END}\")\n",
    "print(f\"  TRADING_DAYS_YR = {TRADING_DAYS_YR}\")\n",
    "print(f\"  MC_PATHS, SEED  = {MC_PATHS}, {SEED}\")\n"
   ]
  },
  {
   "cell_type": "code",
   "execution_count": 3,
   "metadata": {},
   "outputs": [
    {
     "name": "stdout",
     "output_type": "stream",
     "text": [
      "Price DataFrame head:\n"
     ]
    },
    {
     "data": {
      "text/html": [
       "<div>\n",
       "<style scoped>\n",
       "    .dataframe tbody tr th:only-of-type {\n",
       "        vertical-align: middle;\n",
       "    }\n",
       "\n",
       "    .dataframe tbody tr th {\n",
       "        vertical-align: top;\n",
       "    }\n",
       "\n",
       "    .dataframe thead th {\n",
       "        text-align: right;\n",
       "    }\n",
       "</style>\n",
       "<table border=\"1\" class=\"dataframe\">\n",
       "  <thead>\n",
       "    <tr style=\"text-align: right;\">\n",
       "      <th></th>\n",
       "      <th>AAPL</th>\n",
       "      <th>AMZN</th>\n",
       "    </tr>\n",
       "    <tr>\n",
       "      <th>Dates</th>\n",
       "      <th></th>\n",
       "      <th></th>\n",
       "    </tr>\n",
       "  </thead>\n",
       "  <tbody>\n",
       "    <tr>\n",
       "      <th>1997-05-15</th>\n",
       "      <td>0.158</td>\n",
       "      <td>0.098</td>\n",
       "    </tr>\n",
       "    <tr>\n",
       "      <th>1997-05-16</th>\n",
       "      <td>0.154</td>\n",
       "      <td>0.086</td>\n",
       "    </tr>\n",
       "    <tr>\n",
       "      <th>1997-05-19</th>\n",
       "      <td>0.152</td>\n",
       "      <td>0.085</td>\n",
       "    </tr>\n",
       "    <tr>\n",
       "      <th>1997-05-20</th>\n",
       "      <td>0.154</td>\n",
       "      <td>0.082</td>\n",
       "    </tr>\n",
       "    <tr>\n",
       "      <th>1997-05-21</th>\n",
       "      <td>0.151</td>\n",
       "      <td>0.071</td>\n",
       "    </tr>\n",
       "  </tbody>\n",
       "</table>\n",
       "</div>"
      ],
      "text/plain": [
       "             AAPL   AMZN\n",
       "Dates                   \n",
       "1997-05-15  0.158  0.098\n",
       "1997-05-16  0.154  0.086\n",
       "1997-05-19  0.152  0.085\n",
       "1997-05-20  0.154  0.082\n",
       "1997-05-21  0.151  0.071"
      ]
     },
     "metadata": {},
     "output_type": "display_data"
    },
    {
     "name": "stdout",
     "output_type": "stream",
     "text": [
      "Positions (shares): {'AAPL': 429.88565041698905, 'AMZN': 429.6270836913559}\n",
      "P&L head:\n"
     ]
    },
    {
     "data": {
      "text/plain": [
       "Dates\n",
       "1982-11-16   -3.009200\n",
       "1982-11-17    2.579314\n",
       "1982-11-18    0.000000\n",
       "1982-11-19   -0.859771\n",
       "1982-11-22   -3.439085\n",
       "dtype: float64"
      ]
     },
     "metadata": {},
     "output_type": "display_data"
    }
   ],
   "source": [
    "# 1) Load price series into a dict of pd.Series\n",
    "series   = load_price_series(STOCK_FILES)\n",
    "\n",
    "# 2) Combine into single DataFrame & drop any dates with missing data\n",
    "price_df = pd.DataFrame(series).dropna()\n",
    "\n",
    "# 3) Build $-notional positions so each ticker has TARGET_NOTIONAL exposure\n",
    "positions = {\n",
    "    s: TARGET_NOTIONAL / price_df[s].iloc[-1]\n",
    "    for s in price_df.columns\n",
    "}\n",
    "\n",
    "# 4) Compute realized P&L series (1-day horizon)\n",
    "pnl = compute_portfolio_pnl(series, positions, horizon_days=HORIZON_DAYS)\n",
    "\n",
    "print(\"Price DataFrame head:\")\n",
    "display(price_df.head())\n",
    "print(\"Positions (shares):\", positions)\n",
    "print(\"P&L head:\")\n",
    "display(pnl.head())\n"
   ]
  },
  {
   "cell_type": "code",
   "execution_count": 4,
   "metadata": {},
   "outputs": [
    {
     "data": {
      "application/vnd.jupyter.widget-view+json": {
       "model_id": "5752d8c4f53e404bb7385d1ca0c58b38",
       "version_major": 2,
       "version_minor": 0
      },
      "text/plain": [
       "  0%|          | 0/6730 [00:00<?, ?it/s]"
      ]
     },
     "metadata": {},
     "output_type": "display_data"
    },
    {
     "name": "stdout",
     "output_type": "stream",
     "text": [
      "✔️ Rolling VaR series computed.\n"
     ]
    }
   ],
   "source": [
    "# ── Cell 4: Rolling VaR Calculation (with proper per‐window calibration) ──\n",
    "import pandas as pd\n",
    "from tqdm.notebook    import trange\n",
    "from risk_project.config       import P_VAR, HORIZON_DAYS, WINDOW, TRADING_DAYS_YR, MC_PATHS, SEED\n",
    "from risk_project.calibration  import estimate_mu_sigma, estimate_covariance_matrix\n",
    "from risk_project.var_es       import parametric_var_es, historical_var_es\n",
    "from risk_project.monte_carlo  import monte_carlo\n",
    "\n",
    "dates      = price_df.index\n",
    "param_vars = []\n",
    "hist_vars  = []\n",
    "mc_vars    = []\n",
    "roll_dates = []\n",
    "\n",
    "for i in trange(WINDOW, len(dates)):\n",
    "    # 1) window of history\n",
    "    date       = dates[i]\n",
    "    hist_slice = price_df.iloc[i-WINDOW : i]\n",
    "\n",
    "    # 2a) Calibrate parametric drift & covariance on this window\n",
    "    #    μ_ann: dict symbol→annual drift;  cov_ann: DataFrame annual cov\n",
    "    mu_ann = {\n",
    "        s: estimate_mu_sigma(hist_slice[s], trading_days_per_year=TRADING_DAYS_YR)[0]\n",
    "        for s in hist_slice.columns\n",
    "    }\n",
    "    cov_ann = estimate_covariance_matrix(\n",
    "        {s: hist_slice[s] for s in hist_slice.columns},\n",
    "        trading_days_per_year=TRADING_DAYS_YR\n",
    "    )\n",
    "\n",
    "    # 2b) Parametric VaR\n",
    "    pv, _ = parametric_var_es(\n",
    "        positions,\n",
    "        hist_slice.to_dict('series'),\n",
    "        mu_ann,\n",
    "        cov_ann,\n",
    "        p=P_VAR,\n",
    "        horizon_days=HORIZON_DAYS,\n",
    "        trading_days=TRADING_DAYS_YR\n",
    "    )\n",
    "    param_vars.append(pv)\n",
    "\n",
    "    # 3) Historical VaR (long)\n",
    "    hv, _ = historical_var_es(\n",
    "        positions,\n",
    "        hist_slice.to_dict('series'),\n",
    "        p=P_VAR,\n",
    "        horizon_days=HORIZON_DAYS,\n",
    "        is_long=True\n",
    "    )\n",
    "    hist_vars.append(hv)\n",
    "\n",
    "    # 4) Monte Carlo via unified interface\n",
    "    mcv = monte_carlo(\n",
    "        price_df,\n",
    "        positions,\n",
    "        idx=i,\n",
    "        is_long=True,\n",
    "        is_var=True,\n",
    "        p=P_VAR,\n",
    "        horizon_days=HORIZON_DAYS,\n",
    "        window=WINDOW,\n",
    "        trading_days=TRADING_DAYS_YR,\n",
    "        n_sims=MC_PATHS,\n",
    "        seed=SEED\n",
    "    )\n",
    "    mc_vars.append(mcv)\n",
    "\n",
    "    roll_dates.append(date)\n",
    "\n",
    "# 5) Build the three VaR series\n",
    "param_series = pd.Series(param_vars, index=roll_dates)\n",
    "hist_series  = pd.Series(hist_vars,  index=roll_dates)\n",
    "mc_series    = pd.Series(mc_vars,    index=roll_dates)\n",
    "\n",
    "print(\"✔️ Rolling VaR series computed.\")\n"
   ]
  },
  {
   "cell_type": "code",
   "execution_count": 5,
   "metadata": {},
   "outputs": [
    {
     "name": "stdout",
     "output_type": "stream",
     "text": [
      "Parametric rolling VaR backtest:\n",
      "  Exceptions: 123 (~1.83% of 6730 days)\n",
      "  Kupiec LR = 37.41, p-value = 9.569e-10\n",
      "\n",
      "Historical rolling VaR backtest:\n",
      "  Exceptions: 143 (~2.12% of 6730 days)\n",
      "  Kupiec LR = 65.02, p-value = 7.425e-16\n",
      "\n",
      "Monte Carlo rolling VaR backtest:\n",
      "  Exceptions: 157 (~2.33% of 6730 days)\n",
      "  Kupiec LR = 87.80, p-value = 7.249e-21\n",
      "\n"
     ]
    }
   ],
   "source": [
    "# Align P&L to our VaR dates\n",
    "pnl_bt = pnl.reindex(roll_dates)\n",
    "\n",
    "# Function to run backtest and print results\n",
    "def backtest_report(label, var_series):\n",
    "    exc        = compute_exceptions(pnl_bt, var_series)\n",
    "    LR, _      = kupiec_test(exc, P_VAR)\n",
    "    p_val      = chi2.sf(LR, df=1)\n",
    "    n, x       = len(exc), exc.sum()\n",
    "    print(f\"{label} rolling VaR backtest:\")\n",
    "    print(f\"  Exceptions: {x} (~{x/n:.2%} of {n} days)\")\n",
    "    print(f\"  Kupiec LR = {LR:.2f}, p-value = {p_val:.3e}\\n\")\n",
    "\n",
    "backtest_report(\"Parametric\", param_series)\n",
    "backtest_report(\"Historical\", hist_series)\n",
    "backtest_report(\"Monte Carlo\", mc_series)\n"
   ]
  },
  {
   "cell_type": "code",
   "execution_count": 6,
   "metadata": {},
   "outputs": [
    {
     "data": {
      "image/png": "[encoded data removed]",
      "text/plain": [
       "<Figure size 1200x400 with 1 Axes>"
      ]
     },
     "metadata": {},
     "output_type": "display_data"
    }
   ],
   "source": [
    "import matplotlib.pyplot as plt\n",
    "\n",
    "plt.figure(figsize=(12,4))\n",
    "plt.plot(pnl_bt.index,     pnl_bt.values,      alpha=0.6, label=\"P&L\")\n",
    "plt.plot(param_series.index, param_series.values,  label=\"Parametric VaR\")\n",
    "plt.plot(hist_series.index,  hist_series.values,   label=\"Historical VaR\")\n",
    "plt.plot(mc_series.index,    mc_series.values,     label=\"Monte Carlo VaR\")\n",
    "plt.title(\"Daily P&L vs. Rolling 1-day 99% VaR\")\n",
    "plt.xlabel(\"Date\"); plt.ylabel(\"Dollar Amount\")\n",
    "plt.legend(loc=\"upper left\")\n",
    "plt.show()\n"
   ]
  },
  {
   "cell_type": "code",
   "execution_count": 7,
   "metadata": {},
   "outputs": [
    {
     "data": {
      "text/html": [
       "<div>\n",
       "<style scoped>\n",
       "    .dataframe tbody tr th:only-of-type {\n",
       "        vertical-align: middle;\n",
       "    }\n",
       "\n",
       "    .dataframe tbody tr th {\n",
       "        vertical-align: top;\n",
       "    }\n",
       "\n",
       "    .dataframe thead th {\n",
       "        text-align: right;\n",
       "    }\n",
       "</style>\n",
       "<table border=\"1\" class=\"dataframe\">\n",
       "  <thead>\n",
       "    <tr style=\"text-align: right;\">\n",
       "      <th></th>\n",
       "      <th>Exceptions</th>\n",
       "      <th>Exception Rate</th>\n",
       "      <th>Kupiec LR</th>\n",
       "      <th>p-value</th>\n",
       "    </tr>\n",
       "  </thead>\n",
       "  <tbody>\n",
       "    <tr>\n",
       "      <th>Parametric</th>\n",
       "      <td>123</td>\n",
       "      <td>1.83%</td>\n",
       "      <td>37.410887</td>\n",
       "      <td>9.569e-10</td>\n",
       "    </tr>\n",
       "    <tr>\n",
       "      <th>Historical</th>\n",
       "      <td>143</td>\n",
       "      <td>2.12%</td>\n",
       "      <td>65.017098</td>\n",
       "      <td>7.425e-16</td>\n",
       "    </tr>\n",
       "    <tr>\n",
       "      <th>Monte Carlo</th>\n",
       "      <td>157</td>\n",
       "      <td>2.33%</td>\n",
       "      <td>87.797957</td>\n",
       "      <td>7.249e-21</td>\n",
       "    </tr>\n",
       "  </tbody>\n",
       "</table>\n",
       "</div>"
      ],
      "text/plain": [
       "             Exceptions Exception Rate  Kupiec LR    p-value\n",
       "Parametric          123          1.83%  37.410887  9.569e-10\n",
       "Historical          143          2.12%  65.017098  7.425e-16\n",
       "Monte Carlo         157          2.33%  87.797957  7.249e-21"
      ]
     },
     "execution_count": 7,
     "metadata": {},
     "output_type": "execute_result"
    }
   ],
   "source": [
    "import pandas as pd\n",
    "\n",
    "summary = pd.DataFrame({\n",
    "    \"Parametric\":   compute_exceptions(pnl_bt, param_series).sum(),\n",
    "    \"Historical\":   compute_exceptions(pnl_bt, hist_series).sum(),\n",
    "    \"Monte Carlo\":  compute_exceptions(pnl_bt, mc_series).sum()\n",
    "}, index=[\"Exceptions\"]).T\n",
    "\n",
    "summary[\"Exception Rate\"] = (summary[\"Exceptions\"] / len(pnl_bt)).map(\"{:.2%}\".format)\n",
    "summary[\"Kupiec LR\"]      = [\n",
    "    kupiec_test(compute_exceptions(pnl_bt, s), P_VAR)[0]\n",
    "    for s in [param_series, hist_series, mc_series]\n",
    "]\n",
    "summary[\"p-value\"] = summary[\"Kupiec LR\"].apply(lambda LR: chi2.sf(LR,1))\\\n",
    "                                      .map(\"{:.3e}\".format)\n",
    "\n",
    "summary\n"
   ]
  }
 ],
 "metadata": {
  "kernelspec": {
   "display_name": "Python 3",
   "language": "python",
   "name": "python3"
  },
  "language_info": {
   "codemirror_mode": {
    "name": "ipython",
    "version": 3
   },
   "file_extension": ".py",
   "mimetype": "text/x-python",
   "name": "python",
   "nbconvert_exporter": "python",
   "pygments_lexer": "ipython3",
   "version": "3.12.4"
  }
 },
 "nbformat": 4,
 "nbformat_minor": 2
}
