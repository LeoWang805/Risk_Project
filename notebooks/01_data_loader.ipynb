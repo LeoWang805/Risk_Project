{
 "cells": [
  {
   "cell_type": "code",
   "execution_count": 1,
   "metadata": {},
   "outputs": [
    {
     "name": "stdout",
     "output_type": "stream",
     "text": [
      "✔️ Project root: /Users/LeoWang/Desktop/CU/Risk/Risk_Project\n",
      "✔️ CWD:          /Users/LeoWang/Desktop/CU/Risk/Risk_Project\n",
      "✔️ Contents:     ['.DS_Store', 'requirements.txt', '.pytest_cache', 'pyproject.toml', 'tests', 'README.md', '.gitignore', '.venv', '.git', 'data', 'notebooks', 'src']\n"
     ]
    }
   ],
   "source": [
    "# ── Robust Project Setup ─────────────────────────────────────────────────\n",
    "import os, sys\n",
    "from pathlib import Path\n",
    "\n",
    "def find_project_root(marker_dirs=('src','data')):\n",
    "    p = Path().resolve()\n",
    "    while True:\n",
    "        if all((p / d).is_dir() for d in marker_dirs):\n",
    "            return p\n",
    "        if p.parent == p:\n",
    "            raise RuntimeError(f\"Could not find project root containing {marker_dirs}\")\n",
    "        p = p.parent\n",
    "\n",
    "# 1) locate & cd into your Risk_Project folder\n",
    "project_root = find_project_root()\n",
    "os.chdir(project_root)\n",
    "\n",
    "# 2) ensure Python can import src/ and config.py\n",
    "if str(project_root) not in sys.path:\n",
    "    sys.path.insert(0, str(project_root))\n",
    "\n",
    "print(f\"✔️ Project root: {project_root}\")\n",
    "print(f\"✔️ CWD:          {os.getcwd()}\")\n",
    "print(f\"✔️ Contents:     {os.listdir(project_root)}\")\n"
   ]
  },
  {
   "cell_type": "code",
   "execution_count": 2,
   "metadata": {},
   "outputs": [
    {
     "name": "stdout",
     "output_type": "stream",
     "text": [
      "Loaded tickers: ['AAPL', 'AMZN']\n",
      "AAPL head:\n",
      " Dates\n",
      "1982-11-15    0.141\n",
      "1982-11-16    0.134\n",
      "1982-11-17    0.140\n",
      "1982-11-18    0.140\n",
      "1982-11-19    0.138\n",
      "Name: PX_LAST, dtype: float64 \n",
      "\n",
      "AMZN head:\n",
      " Dates\n",
      "1997-05-15    0.098\n",
      "1997-05-16    0.086\n",
      "1997-05-19    0.085\n",
      "1997-05-20    0.082\n",
      "1997-05-21    0.071\n",
      "Name: PX_LAST, dtype: float64 \n",
      "\n"
     ]
    }
   ],
   "source": [
    "# ── Cell 2: Load config & data‐loader ─────────────────────────────────────────────\n",
    "from risk_project.config       import STOCK_FILES\n",
    "from risk_project.data_loader  import load_price_series\n",
    "\n",
    "# use your central STOCK_FILES list\n",
    "series = load_price_series(STOCK_FILES)\n",
    "\n",
    "print(\"Loaded tickers:\", list(series.keys()))\n",
    "for sym, s in series.items():\n",
    "    print(f\"{sym} head:\\n\", s.head(), \"\\n\")\n"
   ]
  }
 ],
 "metadata": {
  "kernelspec": {
   "display_name": "Python 3",
   "language": "python",
   "name": "python3"
  },
  "language_info": {
   "codemirror_mode": {
    "name": "ipython",
    "version": 3
   },
   "file_extension": ".py",
   "mimetype": "text/x-python",
   "name": "python",
   "nbconvert_exporter": "python",
   "pygments_lexer": "ipython3",
   "version": "3.12.4"
  }
 },
 "nbformat": 4,
 "nbformat_minor": 2
}
