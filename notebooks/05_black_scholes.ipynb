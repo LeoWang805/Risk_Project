{
 "cells": [
  {
   "cell_type": "code",
   "execution_count": 1,
   "metadata": {},
   "outputs": [
    {
     "name": "stdout",
     "output_type": "stream",
     "text": [
      "✔️ CWD: /Users/LeoWang/Desktop/CU/Risk/Risk_Project\n"
     ]
    }
   ],
   "source": [
    "import os, sys\n",
    "from pathlib import Path\n",
    "\n",
    "def find_project_root(marker_dirs=('src','data')):\n",
    "    p = Path().resolve()\n",
    "    while True:\n",
    "        if all((p / d).is_dir() for d in marker_dirs):\n",
    "            return p\n",
    "        p = p.parent\n",
    "        if p.parent == p:\n",
    "            raise RuntimeError(\"Project root not found\")\n",
    "\n",
    "root = find_project_root()\n",
    "os.chdir(root)\n",
    "if str(root) not in sys.path:\n",
    "    sys.path.insert(0, str(root))\n",
    "\n",
    "print(\"✔️ CWD:\", os.getcwd())\n"
   ]
  },
  {
   "cell_type": "code",
   "execution_count": 2,
   "metadata": {},
   "outputs": [
    {
     "name": "stdout",
     "output_type": "stream",
     "text": [
      "Using r = 2.00%, T = 1.0 year(s)\n"
     ]
    }
   ],
   "source": [
    "# ── Cell 2: Imports & example parameters ───────────────────────────────────────────\n",
    "from risk_project.config        import RISK_FREE_RATE, TIME_TO_MATURITY\n",
    "from risk_project.black_scholes import bs_call, bs_put\n",
    "\n",
    "# Example market data\n",
    "S   = 100.0           # spot price\n",
    "K   = 100.0           # strike\n",
    "vol = 0.20            # implied vol (20%)\n",
    "r   = RISK_FREE_RATE\n",
    "T   = TIME_TO_MATURITY\n",
    "\n",
    "print(f\"Using r = {r:.2%}, T = {T} year(s)\")\n"
   ]
  },
  {
   "cell_type": "code",
   "execution_count": 3,
   "metadata": {},
   "outputs": [
    {
     "name": "stdout",
     "output_type": "stream",
     "text": [
      "vol=0 → Call: 0.0  Put: 0.0\n",
      "C–P = 1.9801, S–K·e^(–rT) = 1.9801\n",
      "Call Price: 8.916037278572539\n",
      "Put Price:  6.93590460924807\n"
     ]
    }
   ],
   "source": [
    "# ── Cell #3: Sanity Tests ────────────────────────────────────────────────\n",
    "import numpy as np\n",
    "from risk_project.black_scholes import bs_call, bs_put\n",
    "\n",
    "# Example parameters (from Cell #2)\n",
    "S, K, vol, r, T = 100.0, 100.0, 0.2, RISK_FREE_RATE, TIME_TO_MATURITY\n",
    "\n",
    "# 1) At-the-money, vol=0 ⇒ payoff = max(S-K, 0)\n",
    "call0 = bs_call(S, K, 0.0, r, T)\n",
    "put0  = bs_put (S, K, 0.0, r, T)\n",
    "print(\"vol=0 → Call:\", call0, \" Put:\", put0)\n",
    "\n",
    "# 2) Put–Call Parity: C – P ≈ S – K·e^(–rT)\n",
    "C   = bs_call(S, K, vol, r, T)\n",
    "P   = bs_put (S, K, vol, r, T)\n",
    "lhs = C - P\n",
    "rhs = S - K * np.exp(-r * T)\n",
    "print(f\"C–P = {lhs:.4f}, S–K·e^(–rT) = {rhs:.4f}\")\n",
    "\n",
    "# 3) Pricing examples\n",
    "print(\"Call Price:\", C)\n",
    "print(\"Put Price: \", P)\n"
   ]
  }
 ],
 "metadata": {
  "kernelspec": {
   "display_name": "Python 3",
   "language": "python",
   "name": "python3"
  },
  "language_info": {
   "codemirror_mode": {
    "name": "ipython",
    "version": 3
   },
   "file_extension": ".py",
   "mimetype": "text/x-python",
   "name": "python",
   "nbconvert_exporter": "python",
   "pygments_lexer": "ipython3",
   "version": "3.12.4"
  }
 },
 "nbformat": 4,
 "nbformat_minor": 2
}
